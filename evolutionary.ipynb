{
 "cells": [
  {
   "cell_type": "code",
   "execution_count": 76,
   "metadata": {},
   "outputs": [],
   "source": [
    "import numpy as np\n",
    "import matplotlib.image as Image\n",
    "import matplotlib.pyplot as plt"
   ]
  },
  {
   "cell_type": "code",
   "execution_count": 2,
   "metadata": {},
   "outputs": [],
   "source": [
    "path = './pictures/cloud.jpg'"
   ]
  },
  {
   "cell_type": "code",
   "execution_count": 3,
   "metadata": {},
   "outputs": [],
   "source": [
    "img = Image.imread(path)"
   ]
  },
  {
   "cell_type": "code",
   "execution_count": 14,
   "metadata": {},
   "outputs": [
    {
     "data": {
      "text/plain": [
       "(525, 700, 3)"
      ]
     },
     "execution_count": 14,
     "metadata": {},
     "output_type": "execute_result"
    }
   ],
   "source": [
    "img.shape"
   ]
  },
  {
   "cell_type": "code",
   "execution_count": 12,
   "metadata": {},
   "outputs": [],
   "source": [
    "canvas = np.zeros_like(img)"
   ]
  },
  {
   "cell_type": "code",
   "execution_count": null,
   "metadata": {},
   "outputs": [],
   "source": [
    "max_population = 200"
   ]
  },
  {
   "cell_type": "markdown",
   "metadata": {},
   "source": [
    "# Parameters\n",
    "\n",
    "## X-Pos, Y-Pos, R, G, B, Radius, Opakeness"
   ]
  },
  {
   "cell_type": "code",
   "execution_count": 73,
   "metadata": {},
   "outputs": [],
   "source": [
    "class Mask:\n",
    "    def __init__(self,canvas):\n",
    "        '''Accepts a canvas or Image as input,\n",
    "        Returns a Circle-Mask-Object with functions.'''\n",
    "        if not type(canvas) == type(np.array([0])): raise TypeError('Canvas must be of type np.array.')\n",
    "        if not len(canvas.shape) == 3 and canvas.shape[2] == 3: raise TypeError('Canvas must have 3 Color-Chanels. Canvas.shape = (x, y, 3)')\n",
    "        self.canvas = canvas\n",
    "        self.y, self.x, _ = canvas.shape\n",
    "        self.y, self.x = np.arange(0, self.y), np.arange(0, self.y)\n",
    "        self.mask = np.zeros_like(canvas, dtype=bool)\n",
    "        \n",
    "    def __str__(self):\n",
    "        '''String-Representation of Object when printing the Object'''\n",
    "        return 'Mask Object to produce a circle-mask based on a image'\n",
    "\n",
    "    def updateCanvas(self,canvas):\n",
    "        '''Accepts a new canvas as input to replace the old one.\n",
    "        No return value.'''\n",
    "        self.__init__(canvas)\n",
    "        \n",
    "    def calculateMaskFromParameters(self, x_pos, y_pos, px_radius):\n",
    "        '''Calculates the mask-Object with the given Set of parameters x_pos <INT>, y_pos <INT>, px_radius <INT>.\n",
    "        Returns the mask.'''\n",
    "        if not type(x_pos) == int and type(y_pos) == int and type(px_radius) == int: raise TypeError('All Inputs must be of type Integer')\n",
    "        self.mask = (self.x[np.newaxis,:]-x_pos)**2 + (self.y[:,np.newaxis]-y_pos)**2 <= px_radius **2\n",
    "        return self.mask\n",
    "        \n",
    "    def getCurrentMask(self):\n",
    "        '''Returns the last calculated mask-Object'''\n",
    "        return self.mask"
   ]
  },
  {
   "cell_type": "code",
   "execution_count": 74,
   "metadata": {},
   "outputs": [],
   "source": [
    "a = Mask(img)"
   ]
  },
  {
   "cell_type": "code",
   "execution_count": 84,
   "metadata": {},
   "outputs": [],
   "source": [
    "b = a.calculateMaskFromParameters(200,100,100)"
   ]
  },
  {
   "cell_type": "code",
   "execution_count": 85,
   "metadata": {},
   "outputs": [
    {
     "data": {
      "text/plain": [
       "<matplotlib.image.AxesImage at 0x1f5f8cb8198>"
      ]
     },
     "execution_count": 85,
     "metadata": {},
     "output_type": "execute_result"
    },
    {
     "data": {
      "image/png": "[encoded data removed]",
      "text/plain": [
       "<Figure size 432x288 with 1 Axes>"
      ]
     },
     "metadata": {
      "needs_background": "light"
     },
     "output_type": "display_data"
    }
   ],
   "source": [
    "plt.imshow(b)"
   ]
  },
  {
   "cell_type": "code",
   "execution_count": 81,
   "metadata": {},
   "outputs": [
    {
     "data": {
      "text/plain": [
       "(525, 525)"
      ]
     },
     "execution_count": 81,
     "metadata": {},
     "output_type": "execute_result"
    }
   ],
   "source": [
    "b.shape"
   ]
  },
  {
   "cell_type": "code",
   "execution_count": null,
   "metadata": {},
   "outputs": [],
   "source": []
  }
 ],
 "metadata": {
  "kernelspec": {
   "display_name": "Python 3",
   "language": "python",
   "name": "python3"
  },
  "language_info": {
   "codemirror_mode": {
    "name": "ipython",
    "version": 3
   },
   "file_extension": ".py",
   "mimetype": "text/x-python",
   "name": "python",
   "nbconvert_exporter": "python",
   "pygments_lexer": "ipython3",
   "version": "3.7.0"
  }
 },
 "nbformat": 4,
 "nbformat_minor": 2
}

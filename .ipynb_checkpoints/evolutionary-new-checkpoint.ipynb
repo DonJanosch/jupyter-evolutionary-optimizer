{
 "cells": [
  {
   "cell_type": "code",
   "execution_count": null,
   "metadata": {},
   "outputs": [],
   "source": [
    "import numpy as np\n",
    "import matplotlib.image as Image\n",
    "import matplotlib.pyplot as plt\n",
    "np.random.seed(42)"
   ]
  },
  {
   "cell_type": "code",
   "execution_count": null,
   "metadata": {},
   "outputs": [],
   "source": [
    "class Creature:\n",
    "    def __init__(self, canvas, picture, x_pos = None, y_pos = None, px_radius = None, r = None, g = None, b = None, a = None):\n",
    "        #Fix Parameters\n",
    "        self.picture = picture\n",
    "        self.canvas = canvas\n",
    "        self.new_canvas = canvas.copy()\n",
    "        #self.new_canvas.setflag(write=1)\n",
    "        self.h, self.w, _ = canvas.shape\n",
    "        self.x_pos = x_pos or np.random.randint(0, self.w)\n",
    "        self.y_pos = y_pos or np.random.randint(0, self.w)\n",
    "        self.px_radius = px_radius or np.random.randint(1,min(self.h, self.w))\n",
    "        self.r = r or np.random.randint(0,255, dtype=np.uint8)\n",
    "        self.g = g or np.random.randint(0,255, dtype=np.uint8)\n",
    "        self.b = b or np.random.randint(0,255, dtype=np.uint8)\n",
    "        self.a = a or np.random.randint(0,255, dtype=np.uint8)\n",
    "\n",
    "        #Type-Casting\n",
    "        self.r = np.uint8(self.r)\n",
    "        self.g = np.uint8(self.g)\n",
    "        self.b = np.uint8(self.b)\n",
    "        self.a = np.uint8(self.a)\n",
    "        \n",
    "        #Calculate Mask\n",
    "        Y, X = np.ogrid[:self.h, :self.w]\n",
    "        dist_from_center = np.sqrt((X - self.x_pos)**2 + (Y - self.y_pos)**2)\n",
    "        self.mask = dist_from_center <= self.px_radius\n",
    "        \n",
    "        #Calculate new Canvas\n",
    "        orig = self.new_canvas[self.mask]\n",
    "        new = np.ones_like(orig)*(self.r,self.g,self.b)\n",
    "        self.new_canvas[self.mask] = np.array(orig*(255-self.a)+new*self.a, dtype=np.uint8)\n",
    "        \n",
    "        #Evaluate fitness\n",
    "        mse = np.sum(np.square(self.picture - self.new_canvas)) / (self.h * self.w)\n",
    "        self.fitness = 100/(1+mse)\n",
    "        \n",
    "    def getNewCanvas(self):\n",
    "        return self.new_canvas\n",
    "    \n",
    "    def getFitness(self):\n",
    "        return self.fitness\n",
    "        \n",
    "    def printCreature(self):\n",
    "        plt.imshow(self.new_canvas)\n",
    "        plt.title(f'Fitness {self.fitness}')\n",
    "        plt.show()\n",
    "        \n",
    "    def getGenes(self):\n",
    "        return [self.x_pos, self.y_pos, self.px_radius, self.r, self.g, self.b, self.a]"
   ]
  },
  {
   "cell_type": "code",
   "execution_count": null,
   "metadata": {},
   "outputs": [],
   "source": [
    "def softmax(x):\n",
    "    x = np.array(x)\n",
    "    \"\"\"Compute softmax values for each sets of scores in x.\"\"\"\n",
    "    e_x = np.exp(x - np.max(x))\n",
    "    return e_x / e_x.sum()"
   ]
  },
  {
   "cell_type": "code",
   "execution_count": null,
   "metadata": {},
   "outputs": [],
   "source": [
    "path = './pictures/cloud2.jpg'"
   ]
  },
  {
   "cell_type": "code",
   "execution_count": null,
   "metadata": {},
   "outputs": [],
   "source": [
    "img = Image.imread(path)"
   ]
  },
  {
   "cell_type": "code",
   "execution_count": null,
   "metadata": {},
   "outputs": [],
   "source": [
    "canvas = np.ones_like(img)*255"
   ]
  },
  {
   "cell_type": "code",
   "execution_count": null,
   "metadata": {},
   "outputs": [],
   "source": [
    "max_population = 100\n",
    "num_epochs = 50\n",
    "num_iterations = 500\n",
    "mutation_rate = 0.02"
   ]
  },
  {
   "cell_type": "code",
   "execution_count": null,
   "metadata": {},
   "outputs": [],
   "source": [
    "for e in range(num_epochs):\n",
    "    population = [Creature(canvas, img) for _ in range(max_population)]\n",
    "    \n",
    "    for i in range(num_iterations):\n",
    "        fitness = [c.getFitness() for c in population]\n",
    "        best_fitness = list(softmax(fitness))\n",
    "        father = np.random.choice(population,p=best_fitness)\n",
    "        mother = np.random.choice(population,p=best_fitness)\n",
    "        replace_index = np.argmin(best_fitness)\n",
    "        father_genes = father.getGenes()\n",
    "        mother_genes = mother.getGenes()\n",
    "        intersect = np.random.randint(1,len(father_genes)-1)\n",
    "        child_genes = father_genes[:intersect] + mother_genes [intersect:]\n",
    "        for idx, g in enumerate(child_genes):\n",
    "            if np.random.rand() <= mutation_rate:\n",
    "                child_genes[idx] = np.random.randint(0,max(1,2*g))\n",
    "\n",
    "        child = Creature(father.canvas, img, *child_genes)\n",
    "        population[replace_index] = child\n",
    "        \n",
    "        #best_fit = 0\n",
    "        #for p in population:\n",
    "        #    f = p.getFitness()\n",
    "        #    if f > best_fit:\n",
    "        #        best_fit = f\n",
    "        #        best = p\n",
    "        #print(f'Best Creature in iter {i} / epo {e}:')\n",
    "        #p.printCreature()\n",
    "    \n",
    "    #Find best Creature\n",
    "    best_fit = 0\n",
    "    for p in population:\n",
    "        f = p.getFitness()\n",
    "        if f > best_fit:\n",
    "            best_fit = f\n",
    "            best = p\n",
    "    \n",
    "    #set canvas\n",
    "    canvas = best.getNewCanvas()\n",
    "    \n",
    "    print(f'Epoch {e}')\n",
    "    best.printCreature()"
   ]
  },
  {
   "cell_type": "code",
   "execution_count": null,
   "metadata": {},
   "outputs": [],
   "source": []
  }
 ],
 "metadata": {
  "kernelspec": {
   "display_name": "Python 3",
   "language": "python",
   "name": "python3"
  },
  "language_info": {
   "codemirror_mode": {
    "name": "ipython",
    "version": 3
   },
   "file_extension": ".py",
   "mimetype": "text/x-python",
   "name": "python",
   "nbconvert_exporter": "python",
   "pygments_lexer": "ipython3",
   "version": "3.7.0"
  }
 },
 "nbformat": 4,
 "nbformat_minor": 2
}
